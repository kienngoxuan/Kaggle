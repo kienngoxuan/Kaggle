{
 "cells": [
  {
   "cell_type": "code",
   "execution_count": 1,
   "id": "50a8686e",
   "metadata": {
    "_cell_guid": "b1076dfc-b9ad-4769-8c92-a6c4dae69d19",
    "_uuid": "8f2839f25d086af736a60e9eeb907d3b93b6e0e5",
    "execution": {
     "iopub.execute_input": "2025-02-02T03:38:07.050311Z",
     "iopub.status.busy": "2025-02-02T03:38:07.049807Z",
     "iopub.status.idle": "2025-02-02T03:38:09.513266Z",
     "shell.execute_reply": "2025-02-02T03:38:09.512022Z"
    },
    "papermill": {
     "duration": 2.470846,
     "end_time": "2025-02-02T03:38:09.515466",
     "exception": false,
     "start_time": "2025-02-02T03:38:07.044620",
     "status": "completed"
    },
    "tags": []
   },
   "outputs": [
    {
     "name": "stdout",
     "output_type": "stream",
     "text": [
      "/kaggle/input/playground-series-s5e2/sample_submission.csv\n",
      "/kaggle/input/playground-series-s5e2/train.csv\n",
      "/kaggle/input/playground-series-s5e2/test.csv\n",
      "<class 'pandas.core.frame.DataFrame'>\n",
      "RangeIndex: 300000 entries, 0 to 299999\n",
      "Data columns (total 10 columns):\n",
      " #   Column                Non-Null Count   Dtype  \n",
      "---  ------                --------------   -----  \n",
      " 0   Brand                 290295 non-null  object \n",
      " 1   Material              291653 non-null  object \n",
      " 2   Size                  293405 non-null  object \n",
      " 3   Compartments          300000 non-null  float64\n",
      " 4   Laptop Compartment    292556 non-null  object \n",
      " 5   Waterproof            292950 non-null  object \n",
      " 6   Style                 292030 non-null  object \n",
      " 7   Color                 290050 non-null  object \n",
      " 8   Weight Capacity (kg)  299862 non-null  float64\n",
      " 9   Price                 300000 non-null  float64\n",
      "dtypes: float64(3), object(7)\n",
      "memory usage: 22.9+ MB\n"
     ]
    }
   ],
   "source": [
    "# This Python 3 environment comes with many helpful analytics libraries installed\n",
    "# It is defined by the kaggle/python Docker image: https://github.com/kaggle/docker-python\n",
    "# For example, here's several helpful packages to load\n",
    "\n",
    "import numpy as np # linear algebra\n",
    "import pandas as pd # data processing, CSV file I/O (e.g. pd.read_csv)\n",
    "\n",
    "# Input data files are available in the read-only \"../input/\" directory\n",
    "# For example, running this (by clicking run or pressing Shift+Enter) will list all files under the input directory\n",
    "\n",
    "import os\n",
    "for dirname, _, filenames in os.walk('/kaggle/input'):\n",
    "    for filename in filenames:\n",
    "        print(os.path.join(dirname, filename))\n",
    "\n",
    "# You can write up to 20GB to the current directory (/kaggle/working/) that gets preserved as output when you create a version using \"Save & Run All\" \n",
    "# You can also write temporary files to /kaggle/temp/, but they won't be saved outside of the current session\n",
    "train = pd.read_csv(\"/kaggle/input/playground-series-s5e2/train.csv\")\n",
    "train.drop(columns = 'id',inplace=True)\n",
    "test = pd.read_csv(\"/kaggle/input/playground-series-s5e2/test.csv\")\n",
    "test_id = test['id']\n",
    "test.drop(columns = 'id',inplace=True)\n",
    "train.info()"
   ]
  },
  {
   "cell_type": "code",
   "execution_count": 2,
   "id": "1150529a",
   "metadata": {
    "execution": {
     "iopub.execute_input": "2025-02-02T03:38:09.523976Z",
     "iopub.status.busy": "2025-02-02T03:38:09.523659Z",
     "iopub.status.idle": "2025-02-02T03:38:09.747691Z",
     "shell.execute_reply": "2025-02-02T03:38:09.746157Z"
    },
    "papermill": {
     "duration": 0.23013,
     "end_time": "2025-02-02T03:38:09.749374",
     "exception": false,
     "start_time": "2025-02-02T03:38:09.519244",
     "status": "completed"
    },
    "tags": []
   },
   "outputs": [
    {
     "name": "stdout",
     "output_type": "stream",
     "text": [
      "Brand\n",
      "Adidas          60077\n",
      "Under Armour    59992\n",
      "Nike            57336\n",
      "Puma            56814\n",
      "Jansport        56076\n",
      "Name: count, dtype: int64 \n",
      " ============================================================\n",
      "Material\n",
      "Polyester    79630\n",
      "Leather      73416\n",
      "Nylon        70603\n",
      "Canvas       68004\n",
      "Name: count, dtype: int64 \n",
      " ============================================================\n",
      "Size\n",
      "Medium    101906\n",
      "Large      98643\n",
      "Small      92856\n",
      "Name: count, dtype: int64 \n",
      " ============================================================\n",
      "Compartments\n",
      "1.0     31568\n",
      "4.0     31498\n",
      "2.0     30595\n",
      "3.0     30293\n",
      "7.0     30158\n",
      "9.0     29965\n",
      "5.0     29959\n",
      "10.0    29815\n",
      "8.0     28909\n",
      "6.0     27240\n",
      "Name: count, dtype: int64 \n",
      " ============================================================\n",
      "Laptop Compartment\n",
      "Yes    148342\n",
      "No     144214\n",
      "Name: count, dtype: int64 \n",
      " ============================================================\n",
      "Waterproof\n",
      "Yes    148077\n",
      "No     144873\n",
      "Name: count, dtype: int64 \n",
      " ============================================================\n",
      "Style\n",
      "Messenger    100031\n",
      "Tote          97438\n",
      "Backpack      94561\n",
      "Name: count, dtype: int64 \n",
      " ============================================================\n",
      "Color\n",
      "Pink     51690\n",
      "Gray     50280\n",
      "Blue     48097\n",
      "Red      47219\n",
      "Green    46386\n",
      "Black    46378\n",
      "Name: count, dtype: int64 \n",
      " ============================================================\n",
      "Weight Capacity (kg)\n",
      "5.000000     4286\n",
      "30.000000     185\n",
      "11.898250     123\n",
      "22.898382     116\n",
      "14.908437     101\n",
      "             ... \n",
      "6.938551        1\n",
      "8.093085        1\n",
      "22.013824       1\n",
      "13.246538       1\n",
      "6.175738        1\n",
      "Name: count, Length: 181596, dtype: int64 \n",
      " ============================================================\n",
      "Price\n",
      "150.00000    5528\n",
      "15.00000      693\n",
      "23.59584       22\n",
      "17.31514       21\n",
      "62.36063       21\n",
      "             ... \n",
      "82.31121        1\n",
      "90.79389        1\n",
      "111.37389       1\n",
      "94.99611        1\n",
      "41.96325        1\n",
      "Name: count, Length: 48212, dtype: int64 \n",
      " ============================================================\n"
     ]
    }
   ],
   "source": [
    "for col in train.columns:\n",
    "    print(train[col].value_counts(),\"\\n\",\"==\"*30)"
   ]
  },
  {
   "cell_type": "code",
   "execution_count": 3,
   "id": "93079abe",
   "metadata": {
    "execution": {
     "iopub.execute_input": "2025-02-02T03:38:09.758122Z",
     "iopub.status.busy": "2025-02-02T03:38:09.757720Z",
     "iopub.status.idle": "2025-02-02T03:48:17.127614Z",
     "shell.execute_reply": "2025-02-02T03:48:17.126455Z"
    },
    "papermill": {
     "duration": 607.379398,
     "end_time": "2025-02-02T03:48:17.132760",
     "exception": false,
     "start_time": "2025-02-02T03:38:09.753362",
     "status": "completed"
    },
    "tags": []
   },
   "outputs": [
    {
     "name": "stderr",
     "output_type": "stream",
     "text": [
      "<timed exec>:9: FutureWarning: A value is trying to be set on a copy of a DataFrame or Series through chained assignment using an inplace method.\n",
      "The behavior will change in pandas 3.0. This inplace method will never work because the intermediate object on which we are setting values always behaves as a copy.\n",
      "\n",
      "For example, when doing 'df[col].method(value, inplace=True)', try using 'df.method({col: value}, inplace=True)' or df[col] = df[col].method(value) instead, to perform the operation inplace on the original object.\n",
      "\n",
      "\n",
      "<timed exec>:9: FutureWarning: Downcasting behavior in `replace` is deprecated and will be removed in a future version. To retain the old behavior, explicitly call `result.infer_objects(copy=False)`. To opt-in to the future behavior, set `pd.set_option('future.no_silent_downcasting', True)`\n",
      "<timed exec>:17: FutureWarning: A value is trying to be set on a copy of a DataFrame or Series through chained assignment using an inplace method.\n",
      "The behavior will change in pandas 3.0. This inplace method will never work because the intermediate object on which we are setting values always behaves as a copy.\n",
      "\n",
      "For example, when doing 'df[col].method(value, inplace=True)', try using 'df.method({col: value}, inplace=True)' or df[col] = df[col].method(value) instead, to perform the operation inplace on the original object.\n",
      "\n",
      "\n",
      "<timed exec>:9: FutureWarning: A value is trying to be set on a copy of a DataFrame or Series through chained assignment using an inplace method.\n",
      "The behavior will change in pandas 3.0. This inplace method will never work because the intermediate object on which we are setting values always behaves as a copy.\n",
      "\n",
      "For example, when doing 'df[col].method(value, inplace=True)', try using 'df.method({col: value}, inplace=True)' or df[col] = df[col].method(value) instead, to perform the operation inplace on the original object.\n",
      "\n",
      "\n",
      "<timed exec>:9: FutureWarning: Downcasting behavior in `replace` is deprecated and will be removed in a future version. To retain the old behavior, explicitly call `result.infer_objects(copy=False)`. To opt-in to the future behavior, set `pd.set_option('future.no_silent_downcasting', True)`\n",
      "<timed exec>:17: FutureWarning: A value is trying to be set on a copy of a DataFrame or Series through chained assignment using an inplace method.\n",
      "The behavior will change in pandas 3.0. This inplace method will never work because the intermediate object on which we are setting values always behaves as a copy.\n",
      "\n",
      "For example, when doing 'df[col].method(value, inplace=True)', try using 'df.method({col: value}, inplace=True)' or df[col] = df[col].method(value) instead, to perform the operation inplace on the original object.\n",
      "\n",
      "\n"
     ]
    },
    {
     "name": "stdout",
     "output_type": "stream",
     "text": [
      "CPU times: user 10min 3s, sys: 2.72 s, total: 10min 6s\n",
      "Wall time: 10min 7s\n"
     ]
    }
   ],
   "source": [
    "%%time\n",
    "def rmse(y_true, y_pred):\n",
    "    y_true = np.array(y_true)\n",
    "    y_pred = np.array(y_pred)\n",
    "    return np.sqrt(np.mean((y_true - y_pred) ** 2))\n",
    "\n",
    "\n",
    "def eda(df):\n",
    "    if 'Size' in df.columns:\n",
    "        df['Size'].replace({\"Small\": 0, \"Medium\": 1, \"Large\": 2}, inplace=True)\n",
    "\n",
    "    categorical_columns = ['Brand', 'Material', 'Laptop Compartment', 'Waterproof', 'Style', 'Color']\n",
    "    \n",
    "    existing_categorical_columns = [col for col in categorical_columns if col in df.columns]\n",
    "\n",
    "    df = pd.get_dummies(df, columns=existing_categorical_columns, dummy_na=True)\n",
    "\n",
    "    df['Weight Capacity (kg)'].fillna(df['Weight Capacity (kg)'].mode()[0], inplace=True)\n",
    "\n",
    "    from sklearn.ensemble import RandomForestRegressor\n",
    "\n",
    "    train = df.dropna(subset=['Size'])  # Rows where 'Size' is not missing\n",
    "    test = df[df['Size'].isna()]  # Rows where 'Size' is missing\n",
    "    \n",
    "    X_train = train.drop(columns=['Size'])\n",
    "    y_train = train['Size']\n",
    "    X_test = test.drop(columns=['Size'])\n",
    "    \n",
    "    # Train Random Forest Regressor\n",
    "    rf = RandomForestRegressor(n_estimators=100, random_state=16)\n",
    "    rf.fit(X_train, y_train)\n",
    "    \n",
    "    # Predict missing values\n",
    "    df.loc[df['Size'].isna(), 'Size'] = rf.predict(X_test)\n",
    "\n",
    "    return df\n",
    "\n",
    "\n",
    "train_df = eda(train)\n",
    "test_df = eda(test)"
   ]
  },
  {
   "cell_type": "code",
   "execution_count": 4,
   "id": "fcbc2471",
   "metadata": {
    "execution": {
     "iopub.execute_input": "2025-02-02T03:48:17.142080Z",
     "iopub.status.busy": "2025-02-02T03:48:17.141540Z",
     "iopub.status.idle": "2025-02-02T03:48:17.178891Z",
     "shell.execute_reply": "2025-02-02T03:48:17.177100Z"
    },
    "papermill": {
     "duration": 0.044117,
     "end_time": "2025-02-02T03:48:17.180878",
     "exception": false,
     "start_time": "2025-02-02T03:48:17.136761",
     "status": "completed"
    },
    "tags": []
   },
   "outputs": [
    {
     "name": "stdout",
     "output_type": "stream",
     "text": [
      "<class 'pandas.core.frame.DataFrame'>\n",
      "RangeIndex: 300000 entries, 0 to 299999\n",
      "Data columns (total 32 columns):\n",
      " #   Column                  Non-Null Count   Dtype  \n",
      "---  ------                  --------------   -----  \n",
      " 0   Size                    300000 non-null  float64\n",
      " 1   Compartments            300000 non-null  float64\n",
      " 2   Weight Capacity (kg)    300000 non-null  float64\n",
      " 3   Price                   300000 non-null  float64\n",
      " 4   Brand_Adidas            300000 non-null  bool   \n",
      " 5   Brand_Jansport          300000 non-null  bool   \n",
      " 6   Brand_Nike              300000 non-null  bool   \n",
      " 7   Brand_Puma              300000 non-null  bool   \n",
      " 8   Brand_Under Armour      300000 non-null  bool   \n",
      " 9   Brand_nan               300000 non-null  bool   \n",
      " 10  Material_Canvas         300000 non-null  bool   \n",
      " 11  Material_Leather        300000 non-null  bool   \n",
      " 12  Material_Nylon          300000 non-null  bool   \n",
      " 13  Material_Polyester      300000 non-null  bool   \n",
      " 14  Material_nan            300000 non-null  bool   \n",
      " 15  Laptop Compartment_No   300000 non-null  bool   \n",
      " 16  Laptop Compartment_Yes  300000 non-null  bool   \n",
      " 17  Laptop Compartment_nan  300000 non-null  bool   \n",
      " 18  Waterproof_No           300000 non-null  bool   \n",
      " 19  Waterproof_Yes          300000 non-null  bool   \n",
      " 20  Waterproof_nan          300000 non-null  bool   \n",
      " 21  Style_Backpack          300000 non-null  bool   \n",
      " 22  Style_Messenger         300000 non-null  bool   \n",
      " 23  Style_Tote              300000 non-null  bool   \n",
      " 24  Style_nan               300000 non-null  bool   \n",
      " 25  Color_Black             300000 non-null  bool   \n",
      " 26  Color_Blue              300000 non-null  bool   \n",
      " 27  Color_Gray              300000 non-null  bool   \n",
      " 28  Color_Green             300000 non-null  bool   \n",
      " 29  Color_Pink              300000 non-null  bool   \n",
      " 30  Color_Red               300000 non-null  bool   \n",
      " 31  Color_nan               300000 non-null  bool   \n",
      "dtypes: bool(28), float64(4)\n",
      "memory usage: 17.2 MB\n",
      "CPU times: user 25.7 ms, sys: 5 ms, total: 30.7 ms\n",
      "Wall time: 31.1 ms\n"
     ]
    }
   ],
   "source": [
    "%%time\n",
    "train_df.info()"
   ]
  },
  {
   "cell_type": "code",
   "execution_count": 5,
   "id": "6c50ba09",
   "metadata": {
    "execution": {
     "iopub.execute_input": "2025-02-02T03:48:17.190149Z",
     "iopub.status.busy": "2025-02-02T03:48:17.189737Z",
     "iopub.status.idle": "2025-02-02T03:48:20.356049Z",
     "shell.execute_reply": "2025-02-02T03:48:20.354906Z"
    },
    "papermill": {
     "duration": 3.17338,
     "end_time": "2025-02-02T03:48:20.358411",
     "exception": false,
     "start_time": "2025-02-02T03:48:17.185031",
     "status": "completed"
    },
    "tags": []
   },
   "outputs": [],
   "source": [
    "from sklearn.model_selection import train_test_split\n",
    "from sklearn.linear_model import LinearRegression, Lasso, ElasticNet,Ridge,SGDRegressor,BayesianRidge,TheilSenRegressor,RANSACRegressor\n",
    "from sklearn.tree import DecisionTreeRegressor\n",
    "from sklearn.ensemble import GradientBoostingRegressor, RandomForestRegressor\n",
    "from xgboost import XGBRegressor\n",
    "from lightgbm import LGBMRegressor\n",
    "from sklearn.metrics import r2_score\n",
    "from sklearn.preprocessing import StandardScaler"
   ]
  },
  {
   "cell_type": "code",
   "execution_count": 6,
   "id": "76b440a9",
   "metadata": {
    "execution": {
     "iopub.execute_input": "2025-02-02T03:48:20.373876Z",
     "iopub.status.busy": "2025-02-02T03:48:20.372880Z",
     "iopub.status.idle": "2025-02-02T03:48:20.451367Z",
     "shell.execute_reply": "2025-02-02T03:48:20.449941Z"
    },
    "papermill": {
     "duration": 0.088136,
     "end_time": "2025-02-02T03:48:20.453729",
     "exception": false,
     "start_time": "2025-02-02T03:48:20.365593",
     "status": "completed"
    },
    "tags": []
   },
   "outputs": [],
   "source": [
    "x = train_df.drop(columns = ['Price'])\n",
    "y = train_df['Price']\n",
    "x_train, x_test, y_train, y_test = train_test_split(x, y, test_size = 0.2, random_state=16)"
   ]
  },
  {
   "cell_type": "code",
   "execution_count": 7,
   "id": "099d1ae8",
   "metadata": {
    "execution": {
     "iopub.execute_input": "2025-02-02T03:48:20.468789Z",
     "iopub.status.busy": "2025-02-02T03:48:20.468402Z",
     "iopub.status.idle": "2025-02-02T03:53:03.471726Z",
     "shell.execute_reply": "2025-02-02T03:53:03.470384Z"
    },
    "papermill": {
     "duration": 283.012899,
     "end_time": "2025-02-02T03:53:03.473589",
     "exception": false,
     "start_time": "2025-02-02T03:48:20.460690",
     "status": "completed"
    },
    "tags": []
   },
   "outputs": [
    {
     "name": "stdout",
     "output_type": "stream",
     "text": [
      "[LightGBM] [Warning] Found whitespace in feature_names, replace with underlines\n",
      "[LightGBM] [Info] Auto-choosing row-wise multi-threading, the overhead of testing was 0.007146 seconds.\n",
      "You can set `force_row_wise=true` to remove the overhead.\n",
      "And if memory is not enough, you can set `force_col_wise=true`.\n",
      "[LightGBM] [Info] Total Bins 410\n",
      "[LightGBM] [Info] Number of data points in the train set: 240000, number of used features: 31\n",
      "[LightGBM] [Info] Start training from score 81.429372\n",
      "RMSE Scores for different models:\n",
      "DecisionTreeRegressor: 56.1731\n",
      "GradientBoostingRegressor: 38.9460\n",
      "RandomForestRegressor: 40.1089\n",
      "XGBRegressor: 39.1460\n",
      "LGBMRegressor: 38.9628\n",
      "CPU times: user 4min 47s, sys: 2.23 s, total: 4min 50s\n",
      "Wall time: 4min 42s\n"
     ]
    }
   ],
   "source": [
    "%%time\n",
    "def model_list(models, random_state_num, x_train, x_test, y_train, y_test):\n",
    "    rmse_score_dict = {}\n",
    "    for model_class in models:\n",
    "        model = model_class(random_state=random_state_num)\n",
    "        model.fit(x_train, y_train)\n",
    "        y_pred = model.predict(x_test)\n",
    "        \n",
    "        model_name = model_class.__name__\n",
    "        \n",
    "        rmse_score_dict[model_name] = rmse(y_test, y_pred)\n",
    "    \n",
    "    return rmse_score_dict\n",
    "\n",
    "models = [DecisionTreeRegressor, GradientBoostingRegressor, RandomForestRegressor, XGBRegressor, LGBMRegressor]\n",
    "\n",
    "rmse_scores = model_list(models, 16, x_train, x_test, y_train, y_test)\n",
    "\n",
    "print(\"RMSE Scores for different models:\")\n",
    "for model_name, score in rmse_scores.items():\n",
    "    print(f\"{model_name}: {score:.4f}\")"
   ]
  },
  {
   "cell_type": "code",
   "execution_count": 8,
   "id": "d2cc4033",
   "metadata": {
    "execution": {
     "iopub.execute_input": "2025-02-02T03:53:03.485602Z",
     "iopub.status.busy": "2025-02-02T03:53:03.485241Z",
     "iopub.status.idle": "2025-02-02T03:54:37.307125Z",
     "shell.execute_reply": "2025-02-02T03:54:37.305726Z"
    },
    "papermill": {
     "duration": 93.834908,
     "end_time": "2025-02-02T03:54:37.313876",
     "exception": false,
     "start_time": "2025-02-02T03:53:03.478968",
     "status": "completed"
    },
    "tags": []
   },
   "outputs": [
    {
     "name": "stdout",
     "output_type": "stream",
     "text": [
      "RMSE Scores for different models:\n",
      "LinearRegression: 38.9626\n",
      "Lasso: 38.9848\n",
      "ElasticNet: 38.9839\n",
      "Ridge: 38.9626\n",
      "SGDRegressor: 39.3042\n",
      "BayesianRidge: 38.9632\n",
      "TheilSenRegressor: 39.0020\n",
      "RANSACRegressor: 47.5622\n",
      "CPU times: user 1min 18s, sys: 17.7 s, total: 1min 36s\n",
      "Wall time: 1min 33s\n"
     ]
    }
   ],
   "source": [
    "%%time\n",
    "def linear_model_list(models, x_train, x_test, y_train, y_test):\n",
    "    rmse_score_dict = {}\n",
    "    for model_class in models:\n",
    "        model = model_class()\n",
    "        model.fit(x_train, y_train)\n",
    "        y_pred = model.predict(x_test)\n",
    "        \n",
    "        model_name = model_class.__name__\n",
    "        \n",
    "        rmse_score_dict[model_name] = rmse(y_test, y_pred)\n",
    "    \n",
    "    return rmse_score_dict\n",
    "\n",
    "models = [LinearRegression, Lasso, ElasticNet,Ridge,SGDRegressor,BayesianRidge,TheilSenRegressor,RANSACRegressor]\n",
    "\n",
    "rmse_scores = linear_model_list(models, x_train, x_test, y_train, y_test)\n",
    "\n",
    "print(\"RMSE Scores for different models:\")\n",
    "for model_name, score in rmse_scores.items():\n",
    "    print(f\"{model_name}: {score:.4f}\")"
   ]
  },
  {
   "cell_type": "code",
   "execution_count": 9,
   "id": "d85d5d91",
   "metadata": {
    "execution": {
     "iopub.execute_input": "2025-02-02T03:54:37.324183Z",
     "iopub.status.busy": "2025-02-02T03:54:37.323767Z",
     "iopub.status.idle": "2025-02-02T03:54:45.288253Z",
     "shell.execute_reply": "2025-02-02T03:54:45.287030Z"
    },
    "papermill": {
     "duration": 7.973473,
     "end_time": "2025-02-02T03:54:45.291939",
     "exception": false,
     "start_time": "2025-02-02T03:54:37.318466",
     "status": "completed"
    },
    "tags": []
   },
   "outputs": [
    {
     "name": "stdout",
     "output_type": "stream",
     "text": [
      "RMSE for LGBMRegressor: 39.1061\n"
     ]
    }
   ],
   "source": [
    "params = {\n",
    "    'boosting_type': 'gbdt',\n",
    "    'objective': 'regression',\n",
    "    'metric': 'rmse',\n",
    "    'n_estimators': 1000,\n",
    "    'learning_rate': 0.08,\n",
    "    'max_depth': 13,\n",
    "    'reg_alpha': 0.01,\n",
    "    'lambda_l2': 0.01,  \n",
    "    'min_child_samples' : 32,\n",
    "    'colsample_bytree': 0.93,\n",
    "    'subsample': 0.7, \n",
    "    'seed': 42,\n",
    "    'verbose': -1,\n",
    "    'device' : 'cpu' \n",
    "}\n",
    "LGBM_model = LGBMRegressor(**params)\n",
    "LGBM_model.fit(x_train, y_train)\n",
    "y_pred = LGBM_model.predict(x_test)\n",
    "\n",
    "# Calculate RMSLE score\n",
    "score = rmse(y_test, y_pred)\n",
    "print(f\"RMSE for LGBMRegressor: {score:.4f}\")"
   ]
  },
  {
   "cell_type": "code",
   "execution_count": 10,
   "id": "a51105ad",
   "metadata": {
    "execution": {
     "iopub.execute_input": "2025-02-02T03:54:45.305775Z",
     "iopub.status.busy": "2025-02-02T03:54:45.305414Z",
     "iopub.status.idle": "2025-02-02T03:54:57.389004Z",
     "shell.execute_reply": "2025-02-02T03:54:57.387965Z"
    },
    "papermill": {
     "duration": 12.092436,
     "end_time": "2025-02-02T03:54:57.391137",
     "exception": false,
     "start_time": "2025-02-02T03:54:45.298701",
     "status": "completed"
    },
    "tags": []
   },
   "outputs": [],
   "source": [
    "params = {\n",
    "    'boosting_type': 'gbdt',\n",
    "    'objective': 'regression',\n",
    "    'metric': 'rmse',\n",
    "    'n_estimators': 1000,\n",
    "    'learning_rate': 0.08,\n",
    "    'max_depth': 13,\n",
    "    'reg_alpha': 0.01,\n",
    "    'lambda_l2': 0.01,  \n",
    "    'min_child_samples' : 32,\n",
    "    'colsample_bytree': 0.93,\n",
    "    'subsample': 0.7, \n",
    "    'seed': 42,\n",
    "    'verbose': -1,\n",
    "    'device' : 'cpu' \n",
    "}\n",
    "LGBM_model = LGBMRegressor(**params)\n",
    "LGBM_model.fit(x_train, y_train)\n",
    "LGBM_preds = LGBM_model.predict(test_df)\n",
    "predictions = pd.DataFrame({\n",
    "    'id': test_id,\n",
    "    'Price': LGBM_preds\n",
    "})\n",
    "predictions.to_csv('LGBM_ans.csv', index=False)"
   ]
  },
  {
   "cell_type": "code",
   "execution_count": 11,
   "id": "c99c7e7e",
   "metadata": {
    "execution": {
     "iopub.execute_input": "2025-02-02T03:54:57.401610Z",
     "iopub.status.busy": "2025-02-02T03:54:57.401213Z",
     "iopub.status.idle": "2025-02-02T03:56:19.736201Z",
     "shell.execute_reply": "2025-02-02T03:56:19.735073Z"
    },
    "papermill": {
     "duration": 82.346076,
     "end_time": "2025-02-02T03:56:19.741840",
     "exception": false,
     "start_time": "2025-02-02T03:54:57.395764",
     "status": "completed"
    },
    "tags": []
   },
   "outputs": [
    {
     "name": "stdout",
     "output_type": "stream",
     "text": [
      "CPU times: user 1min 6s, sys: 16.2 s, total: 1min 22s\n",
      "Wall time: 1min 22s\n"
     ]
    }
   ],
   "source": [
    "%%time\n",
    "TheilSenRegressor_model = TheilSenRegressor()\n",
    "TheilSenRegressor_model.fit(x_train, y_train)\n",
    "TSR_preds = TheilSenRegressor_model.predict(test_df)\n",
    "predictions = pd.DataFrame({\n",
    "    'id': test_id,\n",
    "    'Price': TSR_preds\n",
    "})\n",
    "predictions.to_csv('TSR_ans.csv', index=False)"
   ]
  },
  {
   "cell_type": "code",
   "execution_count": null,
   "id": "ef92e2fb",
   "metadata": {
    "papermill": {
     "duration": 0.004151,
     "end_time": "2025-02-02T03:56:19.750411",
     "exception": false,
     "start_time": "2025-02-02T03:56:19.746260",
     "status": "completed"
    },
    "tags": []
   },
   "outputs": [],
   "source": []
  }
 ],
 "metadata": {
  "kaggle": {
   "accelerator": "none",
   "dataSources": [
    {
     "databundleVersionId": 10951356,
     "sourceId": 90274,
     "sourceType": "competition"
    }
   ],
   "dockerImageVersionId": 30839,
   "isGpuEnabled": false,
   "isInternetEnabled": true,
   "language": "python",
   "sourceType": "notebook"
  },
  "kernelspec": {
   "display_name": "Python 3",
   "language": "python",
   "name": "python3"
  },
  "language_info": {
   "codemirror_mode": {
    "name": "ipython",
    "version": 3
   },
   "file_extension": ".py",
   "mimetype": "text/x-python",
   "name": "python",
   "nbconvert_exporter": "python",
   "pygments_lexer": "ipython3",
   "version": "3.10.12"
  },
  "papermill": {
   "default_parameters": {},
   "duration": 1096.616812,
   "end_time": "2025-02-02T03:56:20.779118",
   "environment_variables": {},
   "exception": null,
   "input_path": "__notebook__.ipynb",
   "output_path": "__notebook__.ipynb",
   "parameters": {},
   "start_time": "2025-02-02T03:38:04.162306",
   "version": "2.6.0"
  }
 },
 "nbformat": 4,
 "nbformat_minor": 5
}
